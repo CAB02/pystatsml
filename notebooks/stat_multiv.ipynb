{
 "cells": [
  {
   "cell_type": "markdown",
   "metadata": {},
   "source": [
    "# Multivariate statistics\n",
    "\n",
    "Multivariate statistics includes all statistical techniques for analyzing samples made of two or more variables.\n",
    "The data set (a $N \\times P$ matrix $\\mathbf{X}$) is a collection of $N$ independent samples column **vectors** $[\\mathbf{x}_{1}, \\ldots, \\mathbf{x}_{i}, \\ldots, \\mathbf{x}_{N}]$ of length $P$\n",
    "\n",
    "$$\n",
    "\\mathbf{X} =\n",
    "\\begin{matrix}\n",
    "[&& \\mathbf{x}_{1}^T &&]\\\\\n",
    "&&\\vdots&&\\\\\n",
    "[&&\\mathbf{x}_{i}^T  &&]\\\\\n",
    "&&\\vdots&&\\\\\n",
    "[&&\\mathbf{x}_{P}^T&&]\n",
    "\\end{matrix}=\n",
    "\\begin{matrix}\n",
    "[x_{11} & x_{1j} & x_{1P}]\\\\\n",
    "        & \\vdots & \\\\\n",
    "[x_{i1} & x_{ij} & x_{iP}]\\\\\n",
    "        & \\vdots &\\\\\n",
    "[x_{N1} & x_{Nj} &     x_{NP}]\n",
    "\\end{matrix}=\n",
    "\\begin{bmatrix}\n",
    "x_{11} & \\ldots     & x_{1P}\\\\\n",
    "\\vdots &            & \\vdots\\\\\n",
    "       & \\mathbf{X} & \\\\\n",
    "\\vdots &            & \\vdots\\\\       \n",
    "x_{N1} & \\ldots     & x_{NP}\n",
    "\\end{bmatrix}_{~N \\times P}\n",
    "$$\n",
    "\n",
    "\n",
    "## Data mean vector\n",
    "\n",
    "The column-wise mean ($P \\times 1$) vector estimator is\n",
    "$$\n",
    "\\bar{\\mathbf{x}} = \\frac{1}{N}\\sum_{i=1}^N \\mathbf{x_i}=\n",
    "\\frac{1}{N}\\sum_{i=1}^N\\begin{bmatrix}\n",
    "x_{i1}\\\\\n",
    "\\vdots\\\\\n",
    "x_{ij}\\\\\n",
    "\\vdots\\\\\n",
    "x_{iP}\\\\\n",
    "\\end{bmatrix}=\n",
    "\\begin{bmatrix}\n",
    "\\bar{x_{1}}\\\\\n",
    "\\vdots\\\\\n",
    "\\bar{x_{j}}\\\\\n",
    "\\vdots\\\\\n",
    "\\bar{x_{P}}\\\\\n",
    "\\end{bmatrix}\n",
    "$$\n",
    "\n",
    "## Data covariance matrix\n",
    "\n",
    "- The covariance matrix $\\mathbf{\\Sigma_{XX}}$ is a **symmetric** positive semi definite matrix whose element in the $j, k$ position is the covariance between the $j^{th}$ and $k^{th}$ elements of a random vector ie. the $j^{th}$ and $k^{th}$ columns of $\\mathbf{X}$.\n",
    "\n",
    "- The covariance matrix generalizes the notion of covariance to multiple dimensions.\n",
    "\n",
    "- The covariance matrix describe the shape of the sample distribution around the mean assuming assuming an elliptical distribution.\n",
    "\n",
    "$$\n",
    "\\mathbf{\\Sigma_{XX}} = E(\\mathbf{X}-E(\\mathbf{X}))^TE(\\mathbf{X}-E(\\mathbf{X})),\n",
    "$$\n",
    "\n",
    "whose estimator $\\mathbf{S_{XX}}$ is a $P \\times P$ matrix given by\n",
    "$$\n",
    "\\mathbf{S_{XX}}= \\frac{1}{N-1}(\\mathbf{X}- \\mathbf{1} \\bar{\\mathbf{x}}^T)^T (\\mathbf{X}- \\mathbf{1} \\bar{\\mathbf{x}}^T) \n",
    "$$\n",
    "\n",
    "\n",
    "If we assume that $\\mathbf{X}$ is centered, ie. $\\mathbf{X}$ is replaced by $\\mathbf{X} - \\mathbf{1}\\bar{\\mathbf{x}}^T$ then the estimator is\n",
    "$$\n",
    "\\mathbf{S_{XX}} = \\frac{1}{N-1} \\mathbf{X}^T\\mathbf{X}=\n",
    "\\frac{1}{N-1}\n",
    "\\begin{bmatrix}\n",
    "x_{11} & & & \\ldots & & & x_{N1}\\\\\n",
    "x_{1j} & & & \\ldots & & & x_{Nj}\\\\\n",
    "       & & & & & & \\\\\n",
    "x_{1P} & & & \\ldots & & & x_{NP}\\\\\n",
    "\\end{bmatrix}\n",
    "\\begin{bmatrix}\n",
    "x_{11} & & x_{1k}& x_{1P}\\\\\n",
    "       & & & \\\\\n",
    "       & & & \\\\\n",
    "\\vdots & & \\vdots & \\vdots\\\\\n",
    "       & & & \\\\\n",
    "       & & & \\\\\n",
    "x_{N1} & & x_{Nk}& x_{NP}\n",
    "\\end{bmatrix}=\n",
    "\\begin{bmatrix}\n",
    "s_{1} & \\ldots  & s_{1k} & s_{1P}\\\\\n",
    "      & \\ddots  & s_{jk} & \\vdots\\\\\n",
    "      &         & s_{k} & s_{P}\\\\      \n",
    "      &         &        & s_{P}\\\\\n",
    "\\end{bmatrix}\n",
    "$$\n",
    "where \n",
    "$$\n",
    "s_{jk} = s_{kj} = \\frac{1}{N-1} \\mathbf{x_j}^T \\mathbf{x_k} = \\frac{1}{N-1} \\sum_{i=1}^N x_{ij} x_{ik}\n",
    "$$\n",
    "\n",
    "is an estimator of the covariance between the $j^{th}$ and $k^{th}$ variables."
   ]
  },
  {
   "cell_type": "code",
   "execution_count": 2,
   "metadata": {
    "collapsed": false
   },
   "outputs": [
    {
     "name": "stdout",
     "output_type": "stream",
     "text": [
      "toto\n"
     ]
    }
   ],
   "source": [
    "import pystatsml.plot_utils\n",
    "\n",
    "pystatsml.plot_utils.toto()"
   ]
  },
  {
   "cell_type": "code",
   "execution_count": null,
   "metadata": {
    "collapsed": true
   },
   "outputs": [],
   "source": []
  }
 ],
 "metadata": {
  "kernelspec": {
   "display_name": "Python 3",
   "language": "python",
   "name": "python3"
  },
  "language_info": {
   "codemirror_mode": {
    "name": "ipython",
    "version": 3
   },
   "file_extension": ".py",
   "mimetype": "text/x-python",
   "name": "python",
   "nbconvert_exporter": "python",
   "pygments_lexer": "ipython3",
   "version": "3.5.2"
  }
 },
 "nbformat": 4,
 "nbformat_minor": 0
}
