{
 "cells": [
  {
   "cell_type": "markdown",
   "metadata": {},
   "source": [
    "# Multivariate statistics\n",
    "\n",
    "Multivariate statistics includes all statistical techniques for analyzing samples made of two or more variables.\n",
    "The data set (a $N \\times P$ matrix $\\mathbf{X}$) is a collection of $N$ independent samples column **vectors** $[\\mathbf{x}_{1}, \\ldots, \\mathbf{x}_{i}, \\ldots, \\mathbf{x}_{N}]$ of length $P$\n",
    "\n",
    "$$\n",
    "\\mathbf{X} =\n",
    "\\begin{matrix}\n",
    "[&& \\mathbf{x}_{1}^T &&]\\\\\n",
    "&&\\vdots&&\\\\\n",
    "[&&\\mathbf{x}_{i}^T  &&]\\\\\n",
    "&&\\vdots&&\\\\\n",
    "[&&\\mathbf{x}_{P}^T&&]\n",
    "\\end{matrix}=\n",
    "\\begin{matrix}\n",
    "[x_{11} & x_{1j} & x_{1P}]\\\\\n",
    "        & \\vdots & \\\\\n",
    "[x_{i1} & x_{ij} & x_{iP}]\\\\\n",
    "        & \\vdots &\\\\\n",
    "[x_{N1} & x_{Nj} &     x_{NP}]\n",
    "\\end{matrix}=\n",
    "\\begin{bmatrix}\n",
    "x_{11} & \\ldots     & x_{1P}\\\\\n",
    "\\vdots &            & \\vdots\\\\\n",
    "       & \\mathbf{X} & \\\\\n",
    "\\vdots &            & \\vdots\\\\       \n",
    "x_{N1} & \\ldots     & x_{NP}\n",
    "\\end{bmatrix}_{~N \\times P}\n",
    "$$\n",
    "\n",
    "\n",
    "## Data mean vector\n",
    "\n",
    "The column-wise mean ($P \\times 1$) vector $\\mathbf{\\mu}$ whose estimator is\n",
    "$$\n",
    "\\bar{\\mathbf{x}} = \\frac{1}{N}\\sum_{i=1}^N \\mathbf{x_i}=\n",
    "\\frac{1}{N}\\sum_{i=1}^N\\begin{bmatrix}\n",
    "x_{i1}\\\\\n",
    "\\vdots\\\\\n",
    "x_{ij}\\\\\n",
    "\\vdots\\\\\n",
    "x_{iP}\\\\\n",
    "\\end{bmatrix}=\n",
    "\\begin{bmatrix}\n",
    "\\bar{x_{1}}\\\\\n",
    "\\vdots\\\\\n",
    "\\bar{x_{j}}\\\\\n",
    "\\vdots\\\\\n",
    "\\bar{x_{P}}\\\\\n",
    "\\end{bmatrix}\n",
    "$$\n",
    "\n",
    "## Data covariance matrix\n",
    "\n",
    "- The covariance matrix $\\mathbf{\\Sigma_{XX}}$ is a **symmetric** positive semi definite matrix whose element in the $j, k$ position is the covariance between the $j^{th}$ and $k^{th}$ elements of a random vector ie. the $j^{th}$ and $k^{th}$ columns of $\\mathbf{X}$.\n",
    "\n",
    "- The covariance matrix generalizes the notion of covariance to multiple dimensions.\n",
    "\n",
    "- The covariance matrix describe the shape of the sample distribution around the mean assuming assuming an elliptical distribution.\n",
    "\n",
    "$$\n",
    "\\mathbf{\\Sigma_{XX}} = E(\\mathbf{X}-E(\\mathbf{X}))^TE(\\mathbf{X}-E(\\mathbf{X})),\n",
    "$$\n",
    "\n",
    "whose estimator $\\mathbf{S_{XX}}$ is a $P \\times P$ matrix given by\n",
    "$$\n",
    "\\mathbf{S_{XX}}= \\frac{1}{N-1}(\\mathbf{X}- \\mathbf{1} \\bar{\\mathbf{x}}^T)^T (\\mathbf{X}- \\mathbf{1} \\bar{\\mathbf{x}}^T) \n",
    "$$\n",
    "\n",
    "\n",
    "If we assume that $\\mathbf{X}$ is centered, ie. $\\mathbf{X}$ is replaced by $\\mathbf{X} - \\mathbf{1}\\bar{\\mathbf{x}}^T$ then the estimator is\n",
    "$$\n",
    "\\mathbf{S_{XX}} = \\frac{1}{N-1} \\mathbf{X}^T\\mathbf{X}=\n",
    "\\frac{1}{N-1}\n",
    "\\begin{bmatrix}\n",
    "x_{11} & & & \\ldots & & & x_{N1}\\\\\n",
    "x_{1j} & & & \\ldots & & & x_{Nj}\\\\\n",
    "       & & & & & & \\\\\n",
    "x_{1P} & & & \\ldots & & & x_{NP}\\\\\n",
    "\\end{bmatrix}\n",
    "\\begin{bmatrix}\n",
    "x_{11} & & x_{1k}& x_{1P}\\\\\n",
    "       & & & \\\\\n",
    "       & & & \\\\\n",
    "\\vdots & & \\vdots & \\vdots\\\\\n",
    "       & & & \\\\\n",
    "       & & & \\\\\n",
    "x_{N1} & & x_{Nk}& x_{NP}\n",
    "\\end{bmatrix}=\n",
    "\\begin{bmatrix}\n",
    "s_{1} & \\ldots  & s_{1k} & s_{1P}\\\\\n",
    "      & \\ddots  & s_{jk} & \\vdots\\\\\n",
    "      &         & s_{k} & s_{P}\\\\      \n",
    "      &         &        & s_{P}\\\\\n",
    "\\end{bmatrix}\n",
    "$$\n",
    "where \n",
    "$$\n",
    "s_{jk} = s_{kj} = \\frac{1}{N-1} \\mathbf{x_j}^T \\mathbf{x_k} = \\frac{1}{N-1} \\sum_{i=1}^N x_{ij} x_{ik}\n",
    "$$\n",
    "\n",
    "is an estimator of the covariance between the $j^{th}$ and $k^{th}$ variables."
   ]
  },
  {
   "cell_type": "code",
   "execution_count": 2,
   "metadata": {
    "collapsed": false
   },
   "outputs": [
    {
     "name": "stdout",
     "output_type": "stream",
     "text": [
      "toto\n"
     ]
    }
   ],
   "source": [
    "import pystatsml.plot_utils\n",
    "\n",
    "pystatsml.plot_utils.toto()"
   ]
  },
  {
   "cell_type": "code",
   "execution_count": 43,
   "metadata": {
    "collapsed": false
   },
   "outputs": [
    {
     "data": {
      "text/plain": [
       "<matplotlib.legend.Legend at 0x7f38ab99ea20>"
      ]
     },
     "execution_count": 43,
     "metadata": {},
     "output_type": "execute_result"
    },
    {
     "data": {
      "image/png": "[encoded data removed]",
      "text/plain": [
       "<matplotlib.figure.Figure at 0x7f38aba5a240>"
      ]
     },
     "metadata": {},
     "output_type": "display_data"
    }
   ],
   "source": [
    "import numpy as np\n",
    "import scipy\n",
    "import matplotlib.pyplot as plt\n",
    "import seaborn as sns\n",
    "import pystatsml.plot_utils\n",
    "import seaborn as sns  # nice color\n",
    "\n",
    "%matplotlib inline\n",
    "np.random.seed(42)\n",
    "colors = sns.color_palette()\n",
    "\n",
    "n_samples, n_features = 100, 2\n",
    "\n",
    "mean, Cov, X = [None] * 4, [None] * 4, [None] * 4\n",
    "mean[0] = np.array([-2.5, 2.5])\n",
    "Cov[0] = np.array([[1, 0],\n",
    "                   [0, 1]])\n",
    "\n",
    "mean[1] = np.array([2.5, 2.5])\n",
    "Cov[1] = np.array([[1, .5],\n",
    "                   [.5, 1]])\n",
    "\n",
    "mean[2] = np.array([-2.5, -2.5])\n",
    "Cov[2] = np.array([[1, .9],\n",
    "                   [.9, 1]])\n",
    "\n",
    "mean[3] = np.array([2.5, -2.5])\n",
    "Cov[3] = np.array([[1, -.9],\n",
    "                   [-.9, 1]])\n",
    "\n",
    "# Generate dataset\n",
    "for i in range(len(mean)):\n",
    "    X[i] = np.random.multivariate_normal(mean[i], Cov[i], n_samples)\n",
    "\n",
    "# Plot\n",
    "for i in range(len(mean)):\n",
    "    # Points\n",
    "    plt.scatter(X[i][:, 0], X[i][:, 1], color=colors[i], label=\"class %i\" % i)\n",
    "    # Means\n",
    "    plt.scatter(mean[i][0], mean[i][1], marker=\"o\", s=200, facecolors='w',\n",
    "                edgecolors=colors[i], linewidth=2)\n",
    "    # Ellipses representing the covariance matrices\n",
    "    pystatsml.plot_utils.plot_cov_ellipse(Cov[i], pos=mean[i], facecolor='none',\n",
    "                                          linewidth=2, edgecolor=colors[i])\n",
    "\n",
    "plt.axis('equal')\n",
    "plt.legend(loc='upper left')"
   ]
  },
  {
   "cell_type": "markdown",
   "metadata": {},
   "source": [
    "## Multivariate normal distribution\n",
    "\n",
    "multivariate normal distribution or multivariate Gaussian distribution of a $P$-dimensional random vector $\\mathbf{x} = [x_1, x_2, \\ldots, x_P]^T$ is\n",
    "\n",
    "$$\n",
    "\\mathcal{N}(\\mathbf{x}|\\mathbf{\\mu}, \\mathbf{\\Sigma}) = \\frac{1}{(2\\pi)^{P/2}|\\mathbf{\\Sigma}|^{1/2}}\\exp\\{-\\frac{1}{2} (\\mathbf{x} - \\mathbf{\\mu)}^T \\mathbf{\\Sigma}^{-1}(\\mathbf{x} - \\mathbf{\\mu})\\}\n",
    "$$\n",
    "\n",
    "### 1. Write a basic PCA class\n"
   ]
  },
  {
   "cell_type": "code",
   "execution_count": null,
   "metadata": {
    "collapsed": true
   },
   "outputs": [],
   "source": []
  }
 ],
 "metadata": {
  "kernelspec": {
   "display_name": "Python 3",
   "language": "python",
   "name": "python3"
  },
  "language_info": {
   "codemirror_mode": {
    "name": "ipython",
    "version": 3
   },
   "file_extension": ".py",
   "mimetype": "text/x-python",
   "name": "python",
   "nbconvert_exporter": "python",
   "pygments_lexer": "ipython3",
   "version": "3.5.1"
  }
 },
 "nbformat": 4,
 "nbformat_minor": 0
}
