{
 "cells": [
  {
   "cell_type": "markdown",
   "metadata": {},
   "source": [
    "# Resampling Methods"
   ]
  },
  {
   "cell_type": "markdown",
   "metadata": {},
   "source": [
    "## Left out samples validation\n",
    "\n",
    "The **training error** can be easily calculated by applying the statistical learning method to the observations used in its training. But because of overfitting, the training error rate can dramatically underestimate the error that would be obtained on new samples.\n",
    "\n",
    "\n",
    "The **test error** is the average error that results from a learning method to predict the response on a new samples that is, on samples that were not used in training the method. Given a data set, the use of a particular learning method is warranted if it results in a low test error. The test error can be easily calculated if a designated test set is available. Unfortunately, this is usually not the case.\n",
    "\n",
    "Thus the original dataset is generally splited in a training and a test (or validation) data sets. Large training set (80%) small test set (20%) might provide a poor estimation of the predictive performances. On the contrary, large test set and small training set might produce a poorly estimated learner. This is why, on situation where we cannot afford such split, it recommended to use cross-Validation scheme to estimate the predictive power of a learning algorithm.\n",
    "\n",
    "\n",
    "## Cross-Validation (CV)\n",
    "\n",
    "Cross-Validation scheme randomly divid the set of observations into $K$ groups, or **folds**, of approximately equal size. The first fold is treated as a validation set, and the method $f()$ is fitted on the remaining union of $K - 1$ folds: ($f(X_{-K}, y_{-K})$).\n",
    "\n",
    "The mean error measure (generally a loss function) is evaluated of the on the observations in the held-out fold. For each sample $i$ we consider the model estimated on the data set that did not contain it, noted $-K(i)$. This procedure is repeated $K$ times; each time, a different group of observations is treated as a test set.\n",
    "Then we compare the predicted value ($f(X_{-K(i)}) = \\hat{y_i})$ with true value $y_i$ using a Error function $L()$. Then the cross validation estimate of prediction error is\n",
    "\n",
    "$$\n",
    "CV(f) = \\frac{1}{N} \\sum_i^N L\\left(y_i, f(X_{-K(i)}) \\right).\n",
    "$$\n",
    "\n",
    "This validation scheme is known as the **K-Fold CV**. Typical choices of $K$ are 5 or 10, [Kohavi 1995]. The extreme case where $K = N$ is known as **leave-one-out cross-validation, LOO-CV**."
   ]
  },
  {
   "cell_type": "markdown",
   "metadata": {},
   "source": [
    "### CV for regression\n",
    "\n",
    "Usually the error function $L()$ is the r-squared score. However other function could be used."
   ]
  },
  {
   "cell_type": "code",
   "execution_count": 18,
   "metadata": {
    "collapsed": false
   },
   "outputs": [
    {
     "name": "stdout",
     "output_type": "stream",
     "text": [
      "Train r2:0.99\n",
      "Test  r2:0.72\n"
     ]
    }
   ],
   "source": [
    "import numpy as np\n",
    "from sklearn import datasets\n",
    "import sklearn.linear_model as lm\n",
    "import sklearn.metrics as metrics\n",
    "from sklearn.cross_validation import KFold\n",
    "\n",
    "X, y = datasets.make_regression(n_samples=100, n_features=100, \n",
    "                         n_informative=10, random_state=42)\n",
    "model = lm.Ridge(alpha=10)\n",
    "\n",
    "cv = KFold(len(y), n_folds=5, random_state=42)\n",
    "y_test_pred = np.zeros(len(y))\n",
    "y_train_pred = np.zeros(len(y))\n",
    "\n",
    "for train, test in cv:\n",
    "    X_train, X_test, y_train, y_test = X[train, :], X[test, :], y[train], y[test]\n",
    "    model.fit(X_train, y_train)\n",
    "    y_test_pred[test] = model.predict(X_test)\n",
    "    y_train_pred[train] = model.predict(X_train)\n",
    "\n",
    "print(\"Train r2:%.2f\" % metrics.r2_score(y, y_train_pred))\n",
    "print(\"Test  r2:%.2f\" % metrics.r2_score(y, y_test_pred))"
   ]
  },
  {
   "cell_type": "markdown",
   "metadata": {},
   "source": [
    "Scikit-learn provides user-friendly function to perform CV:"
   ]
  },
  {
   "cell_type": "code",
   "execution_count": 19,
   "metadata": {
    "collapsed": false
   },
   "outputs": [
    {
     "name": "stdout",
     "output_type": "stream",
     "text": [
      "Test  r2:0.73\n",
      "Test  r2:0.73\n"
     ]
    }
   ],
   "source": [
    "from sklearn.cross_validation import cross_val_score\n",
    "\n",
    "scores = cross_val_score(estimator=model, X=X, y=y, cv=5)\n",
    "print(\"Test  r2:%.2f\" % scores.mean())\n",
    "\n",
    "# provide a cv\n",
    "scores = cross_val_score(estimator=model, X=X, y=y, cv=cv)\n",
    "print(\"Test  r2:%.2f\" % scores.mean())"
   ]
  },
  {
   "cell_type": "markdown",
   "metadata": {},
   "source": [
    "### CV for classification\n",
    "\n",
    "With classification problems it is essential to sample folds where each set contains approximately the same percentage of samples of each target class as the complete set. This is called **stratification**. In this case, we will use ``StratifiedKFold`` with is a variation of k-fold which returns stratified folds.\n",
    "\n",
    "Usually the error function $L()$ are, at least, the sensitivity and the specificity. However other function could be used."
   ]
  },
  {
   "cell_type": "code",
   "execution_count": 20,
   "metadata": {
    "collapsed": false
   },
   "outputs": [
    {
     "name": "stdout",
     "output_type": "stream",
     "text": [
      "Train SPC:1.00; SEN:1.00\n",
      "Test  SPC:0.80; SEN:0.82\n",
      "Test  ACC:0.81\n"
     ]
    }
   ],
   "source": [
    "import numpy as np\n",
    "from sklearn import datasets\n",
    "import sklearn.linear_model as lm\n",
    "import sklearn.metrics as metrics\n",
    "from sklearn.cross_validation import StratifiedKFold\n",
    "\n",
    "X, y = datasets.make_classification(n_samples=100, n_features=100, \n",
    "                         n_informative=10, random_state=42)\n",
    "\n",
    "model = lm.LogisticRegression(C=1)\n",
    "\n",
    "cv = StratifiedKFold(y, n_folds=5)\n",
    "y_test_pred = np.zeros(len(y))\n",
    "y_train_pred = np.zeros(len(y))\n",
    "\n",
    "for train, test in cv:\n",
    "    X_train, X_test, y_train, y_test = X[train, :], X[test, :], y[train], y[test]\n",
    "    model.fit(X_train, y_train)\n",
    "    y_test_pred[test] = model.predict(X_test)\n",
    "    y_train_pred[train] = model.predict(X_train)\n",
    "\n",
    "recall_test  = metrics.recall_score(y, y_test_pred, average=None)\n",
    "recall_train = metrics.recall_score(y, y_train_pred, average=None)\n",
    "acc_test = metrics.accuracy_score(y, y_test_pred)\n",
    "\n",
    "\n",
    "print(\"Train SPC:%.2f; SEN:%.2f\" % tuple(recall_train))\n",
    "print(\"Test  SPC:%.2f; SEN:%.2f\" % tuple(recall_test))\n",
    "print(\"Test  ACC:%.2f\" % acc_test)"
   ]
  },
  {
   "cell_type": "markdown",
   "metadata": {},
   "source": [
    "Scikit-learn provides user-friendly function to perform CV:"
   ]
  },
  {
   "cell_type": "code",
   "execution_count": 21,
   "metadata": {
    "collapsed": false
   },
   "outputs": [
    {
     "name": "stdout",
     "output_type": "stream",
     "text": [
      "Test  ACC:0.81\n"
     ]
    }
   ],
   "source": [
    "from sklearn.cross_validation import cross_val_score\n",
    "\n",
    "scores = cross_val_score(estimator=model, X=X, y=y, cv=5)\n",
    "scores.mean()\n",
    "\n",
    "# provide CV and score\n",
    "def balanced_acc(estimator, X, y):\n",
    "    '''\n",
    "    Balanced acuracy scorer\n",
    "    '''\n",
    "    return metrics.recall_score(y, estimator.predict(X), average=None).mean()\n",
    "\n",
    "scores = cross_val_score(estimator=model, X=X, y=y, cv=cv, scoring=balanced_acc)\n",
    "print(\"Test  ACC:%.2f\" % scores.mean())"
   ]
  },
  {
   "cell_type": "markdown",
   "metadata": {},
   "source": [
    "Note that with Scikit-learn user-friendly function we average the scores' average obtained on individual folds which may provide slightly different results that the overall average presented earlier."
   ]
  },
  {
   "cell_type": "markdown",
   "metadata": {},
   "source": [
    "## CV for model selection: setting the hyper parameters\n",
    "\n",
    "It is important to note CV may be used for two separate goals:\n",
    "\n",
    "1. **Model assessment**: having chosen a final model, estimating its prediction error (generalization error) on new data.\n",
    "\n",
    "2. **Model selection**: estimating the performance of different models in order to choose the best one. One special case of model selection is the selection model's hyper parameters. Indeed remember that most of learning algorithm have a hyper parameters (typically the regularization parameter) that has to be set.\n",
    "\n",
    "Generally we must address the two problems simultaneously. The usual approach for both problems is to randomly divide the dataset into three parts: a training set, a validation set, and a test set.\n",
    "\n",
    "- The **training set** (train) is used to fit the models;\n",
    "\n",
    "- the **validation set** (val) is used to estimate prediction error for model selection or to determine the hyper parameters over a grid of possible values.\n",
    "\n",
    "- the **test set** (test) is used for assessment of the generalization error of the final chosen model.\n",
    "\n",
    "\n",
    "### Grid search procedure\n",
    "\n",
    "Model selection of the best hyper parameters over a grid of possible values\n",
    "\n",
    "For each possible values of hyper parameters $\\alpha_k$:\n",
    "\n",
    "1. Fit the learner on training set: $f(X_{train}, y_{train}, \\alpha_k)$\n",
    "\n",
    "2. Evaluate the model on the validation set and keep the parameter(s) that minimises the error measure\n",
    "\n",
    "    $\\alpha_* = \\arg \\min L(f(X_{train}), y_{val}, \\alpha_k)$\n",
    "\n",
    "3. Refit the learner on all training + validation data using the best hyper parameters: $f^* \\equiv f(X_{train \\cup val}, y_{train \\cup val}, \\alpha_*)$\n",
    "\n",
    "4. ** Model assessment ** of $f^*$ on the test set: $L(f^*(X_{test}), y_{test})$\n",
    "\n",
    "### Nested CV for model selection and assessment\n",
    "\n",
    "Most of time, we cannot afford such three-way split. Thus, again we will use CV, but in this case we need two nested CVs.\n",
    "\n",
    "One **outer CV loop, for model assessment**. This CV performs $K$ splits of the dataset into training plus validation ($X_{-K}, y_{-K}$) set and a test set $X_{K}, y_{K}$\n",
    "\n",
    "One **inner CV loop, for model selection**. For each run of the outer loop, the inner loop loop performs $L$ splits of dataset ($X_{-K}, y_{-K}$) into training set: ($X_{-K,-L}, y_{-K,-L}$) and a validation set: ($X_{-K,L}, y_{-K,L}$).\n",
    "\n",
    "### Implementation with scikit-learn\n",
    "\n",
    "Note that the inner CV loop combined with the learner form a new learner with an automatic model (parameter) selection procedure. This new learner can be easily constructed using Scikit-learn. The learned is wrapped inside a ``GridSearchCV`` class.\n",
    "\n",
    "Then the new learned can be pluged into the classical outer CV loop."
   ]
  },
  {
   "cell_type": "code",
   "execution_count": 22,
   "metadata": {
    "collapsed": false
   },
   "outputs": [
    {
     "name": "stdout",
     "output_type": "stream",
     "text": [
      "SNR: 2.63584694464\n",
      "Train r2:0.96\n",
      "{'l1_ratio': 0.9, 'alpha': 1.0}\n",
      "Train r2:1.00\n",
      "Test  r2:0.62\n",
      "Selected alphas: [{'l1_ratio': 0.9, 'alpha': 0.001}, {'l1_ratio': 0.9, 'alpha': 0.001}, {'l1_ratio': 0.9, 'alpha': 0.001}, {'l1_ratio': 0.9, 'alpha': 0.01}, {'l1_ratio': 0.9, 'alpha': 0.001}]\n",
      "Test  r2:0.55\n"
     ]
    }
   ],
   "source": [
    "import numpy as np\n",
    "from sklearn import datasets\n",
    "import sklearn.linear_model as lm\n",
    "from sklearn.grid_search import GridSearchCV\n",
    "import sklearn.metrics as metrics\n",
    "from sklearn.cross_validation import KFold\n",
    "\n",
    "# Dataset\n",
    "noise_sd = 10\n",
    "X, y, coef = datasets.make_regression(n_samples=50, n_features=100, noise=noise_sd,\n",
    "                         n_informative=2, random_state=42, coef=True)\n",
    " \n",
    "# Use this to tune the noise parameter such that snr < 5\n",
    "print(\"SNR:\", np.std(np.dot(X, coef)) / noise_sd)\n",
    "\n",
    "# param grid over alpha & l1_ratio\n",
    "param_grid = {'alpha': 10. ** np.arange(-3, 3), 'l1_ratio':[.1, .5, .9]}\n",
    "\n",
    "\n",
    "# Warp \n",
    "model = GridSearchCV(lm.ElasticNet(max_iter=10000), param_grid, cv=5)\n",
    "    \n",
    "# 1) Biased usage: fit on all data, ommit outer CV loop                 \n",
    "model.fit(X, y)\n",
    "print(\"Train r2:%.2f\" % metrics.r2_score(y, model.predict(X)))\n",
    "print(model.best_params_)\n",
    "\n",
    "# 2) User made outer CV, usefull to extract specific imformation \n",
    "cv = KFold(len(y), n_folds=5, random_state=42)\n",
    "y_test_pred = np.zeros(len(y))\n",
    "y_train_pred = np.zeros(len(y))\n",
    "alphas = list()\n",
    "\n",
    "for train, test in cv:\n",
    "    X_train, X_test, y_train, y_test = X[train, :], X[test, :], y[train], y[test]\n",
    "    model.fit(X_train, y_train)\n",
    "    y_test_pred[test] = model.predict(X_test)\n",
    "    y_train_pred[train] = model.predict(X_train)\n",
    "    alphas.append(model.best_params_)\n",
    "\n",
    "print(\"Train r2:%.2f\" % metrics.r2_score(y, y_train_pred))\n",
    "print(\"Test  r2:%.2f\" % metrics.r2_score(y, y_test_pred))\n",
    "print(\"Selected alphas:\", alphas)\n",
    "\n",
    "# 3.) user-friendly sklearn for outer CV\n",
    "from sklearn.cross_validation import cross_val_score\n",
    "scores = cross_val_score(estimator=model, X=X, y=y, cv=cv)\n",
    "print(\"Test  r2:%.2f\" % scores.mean())"
   ]
  },
  {
   "cell_type": "markdown",
   "metadata": {},
   "source": [
    "### Regression models with built-in cross-validation\n",
    "\n",
    "Sklearn wil automaticaly select a grib of parameters, most of time use the defaults values.\n",
    "\n",
    "``n_jobs`` is the number of CPUs to use during the cross validation. If -1, use all the CPUs.\n"
   ]
  },
  {
   "cell_type": "code",
   "execution_count": 23,
   "metadata": {
    "collapsed": false
   },
   "outputs": [
    {
     "name": "stdout",
     "output_type": "stream",
     "text": [
      "== Ridge (L2 penalty) ==\n",
      "Test  r2:0.23\n",
      "== Lasso (L1 penalty) ==\n",
      "Test  r2:0.74\n",
      "== ElasticNet (L1 penalty) ==\n",
      "Test  r2:0.58\n"
     ]
    }
   ],
   "source": [
    "from sklearn import datasets\n",
    "import sklearn.linear_model as lm\n",
    "import sklearn.metrics as metrics\n",
    "from sklearn.cross_validation import cross_val_score\n",
    "\n",
    "# Dataset\n",
    "X, y, coef = datasets.make_regression(n_samples=50, n_features=100, noise=10,\n",
    "                         n_informative=2, random_state=42, coef=True)\n",
    " \n",
    "\n",
    "print(\"== Ridge (L2 penalty) ==\")\n",
    "model = lm.RidgeCV()\n",
    "# Let sklearn select a list of alphas with default LOO-CV\n",
    "scores = cross_val_score(estimator=model, X=X, y=y, cv=5)\n",
    "print(\"Test  r2:%.2f\" % scores.mean())\n",
    "\n",
    "print(\"== Lasso (L1 penalty) ==\")\n",
    "model = lm.LassoCV(n_jobs=-1)\n",
    "# Let sklearn select a list of alphas with default 3CV\n",
    "scores = cross_val_score(estimator=model, X=X, y=y, cv=5)\n",
    "print(\"Test  r2:%.2f\" % scores.mean())\n",
    "\n",
    "print(\"== ElasticNet (L1 penalty) ==\")\n",
    "model = lm.ElasticNetCV(l1_ratio=[.1, .5, .9], n_jobs=-1)\n",
    "# Let sklearn select a list of alphas with default 3CV\n",
    "scores = cross_val_score(estimator=model, X=X, y=y, cv=5)\n",
    "print(\"Test  r2:%.2f\" % scores.mean())"
   ]
  },
  {
   "cell_type": "markdown",
   "metadata": {},
   "source": [
    "### Classification models with built-in cross-validation"
   ]
  },
  {
   "cell_type": "code",
   "execution_count": 24,
   "metadata": {
    "collapsed": false
   },
   "outputs": [
    {
     "name": "stdout",
     "output_type": "stream",
     "text": [
      "== Logistic Ridge (L2 penalty) ==\n",
      "Test  ACC:0.77\n"
     ]
    }
   ],
   "source": [
    "from sklearn import datasets\n",
    "import sklearn.linear_model as lm\n",
    "import sklearn.metrics as metrics\n",
    "from sklearn.cross_validation import cross_val_score\n",
    "\n",
    "X, y = datasets.make_classification(n_samples=100, n_features=100, \n",
    "                         n_informative=10, random_state=42)\n",
    "\n",
    "# provide CV and score\n",
    "def balanced_acc(estimator, X, y):\n",
    "    '''\n",
    "    Balanced acuracy scorer\n",
    "    '''\n",
    "    return metrics.recall_score(y, estimator.predict(X), average=None).mean()\n",
    "\n",
    "print(\"== Logistic Ridge (L2 penalty) ==\")\n",
    "model = lm.LogisticRegressionCV(class_weight='balanced', scoring=balanced_acc, n_jobs=-1)\n",
    "# Let sklearn select a list of alphas with default LOO-CV\n",
    "scores = cross_val_score(estimator=model, X=X, y=y, cv=5)\n",
    "print(\"Test  ACC:%.2f\" % scores.mean())"
   ]
  },
  {
   "cell_type": "markdown",
   "metadata": {},
   "source": [
    "## Random Permutations\n",
    "\n",
    "A permutation test is a type of non-parametric randomization test in which the null distribution of a test statistic is estimated by randomly permuting the the observations.\n",
    "\n",
    "Permutation tests are highly attractive because they make no assumptions other than that the observations are independent and identically distributed under the null hypothesis.\n",
    "\n",
    "1. Compute a obseverved statistic $t_{obs}$ on the data. \n",
    "2. Use randomization to compute the distribution of $t$ under the null hypothesis: Perform $N$ random permutation of the data. For each sample of permuted data, $i$ the data compute the statistic $t_i$. This procedure provides the distribution of $t$ under the null hypothesis $H_0$: $P(t \\vert H_0)$\n",
    "3. Compute the p-value = $P(t>t_{obs} | H_0) \\left\\vert\\{t_i > t_{obs}\\}\\right\\vert$, where $t_i$'s include $t_{obs}$.\n",
    "\n",
    "### Example with a correlation\n",
    "\n",
    "The statistic is the correlation."
   ]
  },
  {
   "cell_type": "code",
   "execution_count": 25,
   "metadata": {
    "collapsed": false
   },
   "outputs": [
    {
     "name": "stdout",
     "output_type": "stream",
     "text": [
      "Permutation two tailed p-value=0.06959. Pearson test p-value=0.07355\n"
     ]
    },
    {
     "data": {
      "image/png": "[encoded data removed]",
      "text/plain": [
       "<matplotlib.figure.Figure at 0x7f10ec4b1710>"
      ]
     },
     "metadata": {},
     "output_type": "display_data"
    }
   ],
   "source": [
    "import numpy as np\n",
    "import scipy.stats as stats\n",
    "import matplotlib.pyplot as plt\n",
    "import seaborn as sns\n",
    "%matplotlib inline\n",
    "#%matplotlib qt\n",
    "\n",
    "np.random.seed(42)\n",
    "x = np.random.normal(loc=10, scale=1, size=100)\n",
    "y = x + np.random.normal(loc=-3, scale=3, size=100) # snr = 1/2\n",
    "\n",
    "# Permutation: simulate the null hypothesis\n",
    "nperm = 10000\n",
    "perms = np.zeros(nperm + 1)\n",
    "\n",
    "perms[0] = np.corrcoef(x, y)[0, 1]\n",
    "\n",
    "for i in range(1, nperm):\n",
    "    perms[i] = np.corrcoef(np.random.permutation(x), y)[0, 1]\n",
    "\n",
    "# Plot\n",
    "# Re-weight to obtain distribution\n",
    "weights = np.ones(perms.shape[0]) / perms.shape[0]\n",
    "plt.hist([perms[perms >= perms[0]], perms], histtype='stepfilled', \n",
    "         bins=100, label=[\"t>t obs (p-value)\", \"t<t obs\"], \n",
    "         weights=[weights[perms >= perms[0]], weights])\n",
    "\n",
    "plt.xlabel(\"Statistic distribution under null hypothesis\")\n",
    "plt.axvline(x=perms[0], color='blue', linewidth=1, label=\"observed statistic\")\n",
    "_ = plt.legend(loc=\"upper left\")\n",
    "\n",
    "# One-tailed empirical p-value\n",
    "pval_perm = np.sum(perms >= perms[0]) / perms.shape[0]\n",
    "\n",
    "# Compare with Pearson's correlation test\n",
    "_, pval_test = stats.pearsonr(x, y)\n",
    "\n",
    "print(\"Permutation two tailed p-value=%.5f. Pearson test p-value=%.5f\" % (2*pval_perm, pval_test))"
   ]
  },
  {
   "cell_type": "markdown",
   "metadata": {},
   "source": [
    "### Exercise\n",
    "\n",
    "Given the logistic regression presented above and its validation given a 5 folds CV.\n",
    "\n",
    "1. Compute the p-value associated with the prediction accuracy using a permutation test.\n",
    "\n",
    "2. Compute the p-value associated with the prediction accuracy using a parametric test."
   ]
  },
  {
   "cell_type": "markdown",
   "metadata": {},
   "source": [
    "## Bootstrapping\n",
    "\n",
    "Bootstrapping is a random sampling with replacement strategy which provides an non-parametric method to assess the variability of performances scores such standard errors or confidence intervals. \n",
    "\n",
    "A great advantage of bootstrap is its simplicity. It is a straightforward way to derive estimates of standard errors and confidence intervals for complex estimators of complex parameters of the distribution, such as percentile points, proportions, odds ratio, and correlation coefficients. \n",
    "\n",
    "1. Perform $B$ sampling, with replacement, of the dataset.\n",
    "2. For each sample $i$ fit the model and compute the scores.\n",
    "3. Assess standard errors and confidence intervals of scores using the scores obtained on the $B$ resampled dataset."
   ]
  },
  {
   "cell_type": "code",
   "execution_count": 3,
   "metadata": {
    "collapsed": false
   },
   "outputs": [
    {
     "name": "stdout",
     "output_type": "stream",
     "text": [
      "Coefficients on all data:\n",
      "[ 0.98143428  0.84248041  0.12029217  0.09319979  0.08717254]\n",
      "r-squared: Mean=0.57, SE=0.09, CI=(0.39 0.70)\n",
      "Coefficients distribution\n",
      "                0           1           2           3           4\n",
      "count  100.000000  100.000000  100.000000  100.000000  100.000000\n",
      "mean     0.975189    0.831922    0.116888    0.099109    0.085516\n",
      "std      0.106367    0.096548    0.108676    0.090312    0.091446\n",
      "min      0.745082    0.593736   -0.112740   -0.126522   -0.141713\n",
      "1%       0.770362    0.640142   -0.088238   -0.094403   -0.113375\n",
      "5%       0.787463    0.657473   -0.045593   -0.046201   -0.090458\n",
      "10%      0.829129    0.706492   -0.037838   -0.020650   -0.044990\n",
      "50%      0.980603    0.835724    0.133070    0.093240    0.088968\n",
      "95%      1.127518    0.999604    0.278735    0.251137    0.221887\n",
      "99%      1.144834    1.036715    0.292784    0.291197    0.287006\n",
      "max      1.146670    1.077265    0.324374    0.298135    0.289569\n"
     ]
    }
   ],
   "source": [
    "import numpy as np\n",
    "from sklearn import datasets\n",
    "import sklearn.linear_model as lm\n",
    "import sklearn.metrics as metrics\n",
    "import pandas as pd\n",
    "\n",
    "# Regression dataset\n",
    "n_features = 5\n",
    "n_features_info = 2\n",
    "n_samples = 100\n",
    "X = np.random.randn(n_samples, n_features)\n",
    "beta = np.zeros(n_features)\n",
    "beta[:n_features_info] = 1\n",
    "Xbeta = np.dot(X, beta)\n",
    "eps = np.random.randn(n_samples)\n",
    "y = Xbeta + eps\n",
    "\n",
    "# Fit model on all data (!! risk of overfit)\n",
    "model = lm.RidgeCV()\n",
    "model.fit(X, y)\n",
    "print(\"Coefficients on all data:\")\n",
    "print(model.coef_)\n",
    "\n",
    "# Bootstrap loop\n",
    "nboot = 100  # !! Should be at least 1000\n",
    "scores_names = [\"r2\"]\n",
    "scores_boot = np.zeros((nboot, len(scores_names)))\n",
    "coefs_boot = np.zeros((nboot, X.shape[1]))\n",
    "\n",
    "orig_all = np.arange(X.shape[0])\n",
    "for boot_i in range(nboot):\n",
    "    boot_tr = np.random.choice(orig_all, size=len(orig_all), replace=True)\n",
    "    boot_te = np.setdiff1d(orig_all, boot_tr, assume_unique=False)\n",
    "    Xtr, ytr = X[boot_tr, :], y[boot_tr]\n",
    "    Xte, yte = X[boot_te, :], y[boot_te]\n",
    "    model.fit(Xtr, ytr)\n",
    "    y_pred = model.predict(Xte).ravel()\n",
    "    scores_boot[boot_i, :] = metrics.r2_score(yte, y_pred)\n",
    "    coefs_boot[boot_i, :] = model.coef_\n",
    "\n",
    "# Compute Mean, SE, CI\n",
    "scores_boot = pd.DataFrame(scores_boot, columns=scores_names)\n",
    "scores_stat = scores_boot.describe(percentiles=[.99, .95, .5, .1, .05, 0.01])\n",
    "\n",
    "print(\"r-squared: Mean=%.2f, SE=%.2f, CI=(%.2f %.2f)\" %\\\n",
    "      tuple(scores_stat.ix[[\"mean\", \"std\", \"5%\", \"95%\"], \"r2\"]))\n",
    "\n",
    "coefs_boot = pd.DataFrame(coefs_boot)\n",
    "coefs_stat = coefs_boot.describe(percentiles=[.99, .95, .5, .1, .05, 0.01])\n",
    "print(\"Coefficients distribution\")\n",
    "print(coefs_stat)"
   ]
  }
 ],
 "metadata": {
  "anaconda-cloud": {},
  "kernelspec": {
   "display_name": "Python 3",
   "language": "python",
   "name": "python3"
  },
  "language_info": {
   "codemirror_mode": {
    "name": "ipython",
    "version": 3
   },
   "file_extension": ".py",
   "mimetype": "text/x-python",
   "name": "python",
   "nbconvert_exporter": "python",
   "pygments_lexer": "ipython3",
   "version": "3.5.2"
  }
 },
 "nbformat": 4,
 "nbformat_minor": 0
}
