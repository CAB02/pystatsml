{
 "cells": [
  {
   "cell_type": "markdown",
   "metadata": {},
   "source": [
    "# Dimension reduction and feature extration\n",
    "\n",
    "## Principal Component Analysis\n",
    "\n",
    "### Implement PCA\n",
    "\n",
    "- Write a class `BasicPCA` with two methods `fit(X)` that estimates the data mean and principal components directions. `transform(X)` that project a new the data into the principal components.\n",
    "\n",
    "- Check that your `BasicPCA` pfermed simillarly than the one from `prcomp`"
   ]
  },
  {
   "cell_type": "code",
   "execution_count": 1,
   "metadata": {
    "collapsed": false
   },
   "outputs": [],
   "source": [
    "BasicPCA <- function(X){\n",
    "  obj = list()\n",
    "  Xc <- scale(X, center=TRUE, scale=FALSE)\n",
    "  obj$mean <- attr(Xc, \"scaled:center\")\n",
    "  s <- svd(Xc, nu = 0)\n",
    "  # v [K x P] a matrix whose columns contain the right singular vectors of x\n",
    "  obj$V = s$v\n",
    "  obj$var = 1 / (nrow(X) - 1) * s$d ^2\n",
    "  return(obj)\n",
    "}\n",
    "\n",
    "BasicPCA.transform <- function(obj, X){\n",
    "  Xc <- scale(X, center=obj$mean, scale=FALSE)\n",
    "  return(Xc %*% obj$V)\n",
    "}"
   ]
  },
  {
   "cell_type": "markdown",
   "metadata": {
    "collapsed": false
   },
   "source": [
    "Dataset"
   ]
  },
  {
   "cell_type": "code",
   "execution_count": 2,
   "metadata": {
    "collapsed": true
   },
   "outputs": [],
   "source": [
    "n_samples = 10\n",
    "experience = rnorm(n_samples)\n",
    "salary = 1500 + experience + .5 * rnorm(n_samples)\n",
    "other = rnorm(n_samples)\n",
    "X = cbind(experience, salary, other)"
   ]
  },
  {
   "cell_type": "code",
   "execution_count": 3,
   "metadata": {
    "collapsed": false
   },
   "outputs": [
    {
     "data": {
      "text/html": [
       "<table>\n",
       "<tbody>\n",
       "\t<tr><td>-0.8059361</td><td> 0.1330962</td><td>-0.3646651</td></tr>\n",
       "\t<tr><td> 0.3880348</td><td> 0.2643529</td><td>-0.2937902</td></tr>\n",
       "\t<tr><td>-2.274207</td><td> 0.071420</td><td>-0.316832</td></tr>\n",
       "\t<tr><td>-0.3030267</td><td> 0.0999151</td><td> 0.1685254</td></tr>\n",
       "\t<tr><td> 1.9269810</td><td>-0.1898635</td><td>-0.1812846</td></tr>\n",
       "\t<tr><td>-0.9197667</td><td>-0.3151589</td><td>-0.3776301</td></tr>\n",
       "\t<tr><td> 0.7268181</td><td>-0.1145706</td><td> 0.3765743</td></tr>\n",
       "\t<tr><td> 2.39347164</td><td>-0.02066474</td><td>-0.18869772</td></tr>\n",
       "\t<tr><td>-0.4123171</td><td> 1.4869209</td><td> 0.5805313</td></tr>\n",
       "\t<tr><td>-0.7200521</td><td>-1.4154474</td><td> 0.5972686</td></tr>\n",
       "</tbody>\n",
       "</table>\n"
      ],
      "text/latex": [
       "\\begin{tabular}{lll}\n",
       "\t -0.8059361 &  0.1330962 & -0.3646651\\\\\n",
       "\t  0.3880348 &  0.2643529 & -0.2937902\\\\\n",
       "\t -2.274207 &  0.071420 & -0.316832\\\\\n",
       "\t -0.3030267 &  0.0999151 &  0.1685254\\\\\n",
       "\t  1.9269810 & -0.1898635 & -0.1812846\\\\\n",
       "\t -0.9197667 & -0.3151589 & -0.3776301\\\\\n",
       "\t  0.7268181 & -0.1145706 &  0.3765743\\\\\n",
       "\t  2.39347164 & -0.02066474 & -0.18869772\\\\\n",
       "\t -0.4123171 &  1.4869209 &  0.5805313\\\\\n",
       "\t -0.7200521 & -1.4154474 &  0.5972686\\\\\n",
       "\\end{tabular}\n"
      ],
      "text/markdown": [
       "1. -0.805936149608758\n",
       "2. 0.388034811043252\n",
       "3. -2.27420678577705\n",
       "4. -0.303026715030672\n",
       "5. 1.92698097749843\n",
       "6. -0.919766651469532\n",
       "7. 0.726818060014133\n",
       "8. 2.39347164020079\n",
       "9. -0.412317103468367\n",
       "10. -0.720052083402078\n",
       "11. 0.133096214738167\n",
       "12. 0.264352855104313\n",
       "13. 0.071420003014839\n",
       "14. 0.0999150972463986\n",
       "15. -0.18986348513659\n",
       "16. -0.315158886358122\n",
       "17. -0.114570623240985\n",
       "18. -0.020664738988456\n",
       "19. 1.48692093364253\n",
       "20. -1.41544737002215\n",
       "21. -0.364665052082637\n",
       "22. -0.293790170731067\n",
       "23. -0.316831962447632\n",
       "24. 0.168525414917393\n",
       "25. -0.181284610723392\n",
       "26. -0.377630080599709\n",
       "27. 0.376574252842432\n",
       "28. -0.188697724971465\n",
       "29. 0.58053131490703\n",
       "30. 0.597268618889212\n",
       "\n",
       "\n"
      ],
      "text/plain": [
       "            [,1]        [,2]       [,3]\n",
       " [1,] -0.8059361  0.13309621 -0.3646651\n",
       " [2,]  0.3880348  0.26435286 -0.2937902\n",
       " [3,] -2.2742068  0.07142000 -0.3168320\n",
       " [4,] -0.3030267  0.09991510  0.1685254\n",
       " [5,]  1.9269810 -0.18986349 -0.1812846\n",
       " [6,] -0.9197667 -0.31515889 -0.3776301\n",
       " [7,]  0.7268181 -0.11457062  0.3765743\n",
       " [8,]  2.3934716 -0.02066474 -0.1886977\n",
       " [9,] -0.4123171  1.48692093  0.5805313\n",
       "[10,] -0.7200521 -1.41544737  0.5972686"
      ]
     },
     "metadata": {},
     "output_type": "display_data"
    },
    {
     "data": {
      "text/html": [
       "<ol class=list-inline>\n",
       "\t<li>'sdev'</li>\n",
       "\t<li>'rotation'</li>\n",
       "\t<li>'center'</li>\n",
       "\t<li>'scale'</li>\n",
       "\t<li>'x'</li>\n",
       "</ol>\n"
      ],
      "text/latex": [
       "\\begin{enumerate*}\n",
       "\\item 'sdev'\n",
       "\\item 'rotation'\n",
       "\\item 'center'\n",
       "\\item 'scale'\n",
       "\\item 'x'\n",
       "\\end{enumerate*}\n"
      ],
      "text/markdown": [
       "1. 'sdev'\n",
       "2. 'rotation'\n",
       "3. 'center'\n",
       "4. 'scale'\n",
       "5. 'x'\n",
       "\n",
       "\n"
      ],
      "text/plain": [
       "[1] \"sdev\"     \"rotation\" \"center\"   \"scale\"    \"x\"       "
      ]
     },
     "metadata": {},
     "output_type": "display_data"
    },
    {
     "data": {
      "text/html": [
       "TRUE"
      ],
      "text/latex": [
       "TRUE"
      ],
      "text/markdown": [
       "TRUE"
      ],
      "text/plain": [
       "[1] TRUE"
      ]
     },
     "metadata": {},
     "output_type": "display_data"
    }
   ],
   "source": [
    "basic_pca = BasicPCA(X)\n",
    "obj = basic_pca\n",
    "BasicPCA.transform(basic_pca, X)\n",
    "\n",
    "\n",
    "# PCA with prcomp\n",
    "pca = prcomp(X)\n",
    "names(pca)\n",
    "\n",
    "all(predict(pca, X) == BasicPCA.transform(basic_pca, X))"
   ]
  },
  {
   "cell_type": "code",
   "execution_count": null,
   "metadata": {
    "collapsed": true
   },
   "outputs": [],
   "source": []
  },
  {
   "cell_type": "code",
   "execution_count": null,
   "metadata": {
    "collapsed": true
   },
   "outputs": [],
   "source": []
  },
  {
   "cell_type": "code",
   "execution_count": null,
   "metadata": {
    "collapsed": true
   },
   "outputs": [],
   "source": []
  },
  {
   "cell_type": "code",
   "execution_count": null,
   "metadata": {
    "collapsed": true
   },
   "outputs": [],
   "source": []
  },
  {
   "cell_type": "code",
   "execution_count": null,
   "metadata": {
    "collapsed": true
   },
   "outputs": [],
   "source": []
  },
  {
   "cell_type": "code",
   "execution_count": null,
   "metadata": {
    "collapsed": true
   },
   "outputs": [],
   "source": []
  },
  {
   "cell_type": "code",
   "execution_count": null,
   "metadata": {
    "collapsed": true
   },
   "outputs": [],
   "source": []
  },
  {
   "cell_type": "code",
   "execution_count": null,
   "metadata": {
    "collapsed": true
   },
   "outputs": [],
   "source": []
  },
  {
   "cell_type": "code",
   "execution_count": null,
   "metadata": {
    "collapsed": true
   },
   "outputs": [],
   "source": []
  },
  {
   "cell_type": "code",
   "execution_count": null,
   "metadata": {
    "collapsed": true
   },
   "outputs": [],
   "source": []
  },
  {
   "cell_type": "code",
   "execution_count": null,
   "metadata": {
    "collapsed": true
   },
   "outputs": [],
   "source": []
  }
 ],
 "metadata": {
  "kernelspec": {
   "display_name": "R",
   "language": "R",
   "name": "ir"
  },
  "language_info": {
   "codemirror_mode": "r",
   "file_extension": ".r",
   "mimetype": "text/x-r-source",
   "name": "R",
   "pygments_lexer": "r",
   "version": "3.3.1"
  }
 },
 "nbformat": 4,
 "nbformat_minor": 0
}
