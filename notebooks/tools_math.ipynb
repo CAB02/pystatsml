{
 "cells": [
  {
   "cell_type": "markdown",
   "metadata": {},
   "source": [
    "# Mathematics\n",
    "\n",
    "\n",
    "## Linear Algerba\n",
    "\n",
    "### Euclidian distance\n",
    "\n",
    "$$\n",
    "\\|\\mathbf{a}\\|_2 = \\sqrt{\\sum_i {a_i}^2}\n",
    "$$\n",
    "\n",
    "### Dot product and projection\n",
    "\n",
    "Source: [Wikipedia](https://en.wikipedia.org/wiki/Projection_%28linear_algebra%29)\n",
    "\n",
    "**Algebraic definition**\n",
    "\n",
    "The dot product, noted $\\cdot$ of two $P$-dimensionnal vectors vectors $\\mathbf{a} = [a_1, a_2, ..., a_P]$ and $\\mathbf{a} = [b_1, b_2, ..., b_P]$ is defined as:\n",
    "\n",
    "$$\n",
    "\\mathbf{a} \\cdot \\mathbf{b} = \\mathbf{a}^T \\mathbf{b} = \\sum_i a_i b_i = \\begin{bmatrix}\n",
    "a_{1} & \\ldots &  \\mathbf{a}^T  & \\ldots &     a_{P}\n",
    "\\end{bmatrix}\n",
    "\\begin{bmatrix}\n",
    "b_{1}\\\\\n",
    "\\vdots \\\\\n",
    "\\mathbf{b}\\\\ \n",
    "\\vdots\\\\\n",
    "b_{P}\n",
    "\\end{bmatrix}\n",
    "$$\n",
    "\n",
    "\n",
    "$$\n",
    "\\left\\|\\mathbf{a} \\right\\|={\\sqrt {\\mathbf{a} \\cdot \\mathbf{a}}},\n",
    "$$\n",
    "\n",
    "the formula for the Euclidean length of the vector.\n",
    "\n",
    "**Geometric definition: projection**\n",
    "\n",
    "In Euclidean space, a Euclidean vector is a geometrical object that possesses both a magnitude and a direction. A vector can be pictured as an arrow. Its magnitude is its length, and its direction is the direction that the arrow points. The magnitude of a vector A is denoted by $\\|\\mathbf{a}\\|$. The dot product of two Euclidean vectors $\\mathbf{a}$ and $\\mathbf{b}$ is defined by\n",
    "\n",
    "$$\n",
    "\\mathbf{a} \\cdot \\mathbf{b} =\\|\\mathbf{a} \\|\\ \\|\\mathbf{b} \\|\\cos(\\theta)\n",
    "$$\n",
    "\n",
    "where $\\theta$ is the angle between $\\mathbf{a}$ and $\\mathbf{a}$.\n",
    "\n",
    "In particular, if $\\mathbf{a}$ and $\\mathbf{b}$ are orthogonal, then the angle between them is 90° and\n",
    "\n",
    "$$\n",
    "\\mathbf{a} \\cdot \\mathbf{b} =0\n",
    "$$\n",
    "\n",
    "At the other extreme, if they are codirectional, then the angle between them is 0° and\n",
    "$$\n",
    "\\mathbf{a} \\cdot \\mathbf{b} =\\left\\|\\mathbf{a} \\right\\|\\,\\left\\|\\mathbf{b} \\right\\|\n",
    "$$\n",
    "\n",
    "\n",
    "This implies that the dot product of a vector $\\mathbf{a}$ by itself is\n",
    "\n",
    "$$\n",
    "\\mathbf{a} \\cdot \\mathbf{a} =\\left\\|\\mathbf{a} \\right\\|^{2},\n",
    "$$\n",
    "\n",
    "which gives\n",
    "\n",
    "\n",
    "The scalar projection (or scalar component) of a Euclidean vector $\\mathbf{a}$ in the direction of a Euclidean vector $\\mathbf{b}$ is given by\n",
    "\n",
    "$$\n",
    "a_{b}=\\left\\|\\mathbf{a} \\right\\|\\cos \\theta,\n",
    "$$\n",
    "\n",
    "where $\\theta$ is the angle between $\\mathbf{a}$ and $\\mathbf{a}$.\n",
    "\n",
    "In terms of the geometric definition of the dot product, this can be rewritten\n",
    "$$\n",
    "a_{b} = \\mathbf{a} \\cdot \\mathbf{b} / \\|\\mathbf{b}\\|,\n",
    "$$\n",
    "\n",
    "\n",
    "![Projection.](images/Dot_Product.png)"
   ]
  },
  {
   "cell_type": "code",
   "execution_count": 6,
   "metadata": {
    "collapsed": false
   },
   "outputs": [
    {
     "data": {
      "text/plain": [
       "-4.0857885326599233"
      ]
     },
     "execution_count": 6,
     "metadata": {},
     "output_type": "execute_result"
    }
   ],
   "source": [
    "import numpy as np\n",
    "np.random.seed(42)\n",
    "\n",
    "a = np.random.randn(10)\n",
    "b = np.random.randn(10)\n",
    "\n",
    "np.dot(a, b)"
   ]
  },
  {
   "cell_type": "markdown",
   "metadata": {},
   "source": [
    "## Exercises\n",
    "\n",
    "1. Compute the Euclidean norm of $\\mathbf{b}$\n",
    "\n",
    "2. Compute the projection of $\\mathbf{a}$ in the direction of vector $\\mathbf{b}$: $a_{b}$\n",
    "\n",
    "3. Project the $N=100 \\times P=2$ dataset given below, in the direction of the vector $\\mathbf{b} = [1, 1]$"
   ]
  },
  {
   "cell_type": "code",
   "execution_count": 7,
   "metadata": {
    "collapsed": true
   },
   "outputs": [],
   "source": [
    "X = np.random.randn(10, 2)"
   ]
  }
 ],
 "metadata": {
  "kernelspec": {
   "display_name": "Python 3",
   "language": "python",
   "name": "python3"
  },
  "language_info": {
   "codemirror_mode": {
    "name": "ipython",
    "version": 3
   },
   "file_extension": ".py",
   "mimetype": "text/x-python",
   "name": "python",
   "nbconvert_exporter": "python",
   "pygments_lexer": "ipython3",
   "version": "3.5.2"
  }
 },
 "nbformat": 4,
 "nbformat_minor": 0
}
